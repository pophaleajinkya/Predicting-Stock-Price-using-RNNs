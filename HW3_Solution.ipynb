{
  "cells": [
    {
      "cell_type": "markdown",
      "metadata": {
        "id": "CCSqxIaaQQTP"
      },
      "source": [
        "## Predicting Stock Price using RNNs"
      ]
    },
    {
      "cell_type": "markdown",
      "metadata": {
        "id": "O8QzZuxNwJsb"
      },
      "source": [
        "Your task is to develop recurrent neural network models to predict the stock price of a company of your choice. The goal is to use stock price data (open, high, low, and close data) from the prior 60 days to predict the close price of the stock 5 days into the future.  \n",
        "\n",
        "First, follow the steps below to download ~15 years of historical data on the stock price of your favorite company.\n",
        "\n",
        "1. Go to [Yahoo Finance](https://finance.yahoo.com/).\n",
        "2. Enter a stock symbol into the search field (e.g., AAPL for Apple).\n",
        "3. Select it in the search results to view it.\n",
        "4. Click Historical Data.\n",
        "5. For the Time Period, please enter 01.01.2008 to 10.04.2023.\n",
        "6. Make sure the Frequency is Daily.\n",
        "6. Click Apply.\n",
        "7. Click Download.\n",
        "\n",
        "For this assignment, you are free to choose any company you like as long as it has 15 years of data (from 01.01.2008 to 10.04.2023). Examples of such companies include: Apple (AAPL), Google (GOOG), Amazon (AMZN), Nvidia (NVDA), Intel (INTC), Microsoft (MSFT), Adobe (ADBE), Netflix (NFLX), etc. You can also choose an ETF, such as the S&P 500 ETF (SPY).  \n"
      ]
    },
    {
      "cell_type": "markdown",
      "metadata": {
        "id": "koKclVOfyB-8"
      },
      "source": [
        "After you downloaded the historical stock data for a company of your choice, open the `.csv` file with Excel. You should be able to see seven columns: Date, Open, High, Low, Close, Adj Close, Volume.\n",
        "\n",
        "You should also have 3968 rows in your dataset. The first row contains the headers, and the remaining 3967 rows contain daily stock prices. Note that stock prices are recorded on business days only (not weekends), so the first data point corresponds to 1.2.2008.\n",
        "\n",
        "If everything looks good, close your Excel file and upload the `.csv` file on your Google Drive, so you can easily import it to your Colab Notebook."
      ]
    },
    {
      "cell_type": "markdown",
      "metadata": {
        "id": "quG66dGDwJsc"
      },
      "source": [
        "## Importing the dataset\n",
        "\n",
        "Mount your drive using the code below."
      ]
    },
    {
      "cell_type": "code",
      "execution_count": 1,
      "metadata": {
        "colab": {
          "base_uri": "https://localhost:8080/"
        },
        "id": "txcag5bdwUig",
        "outputId": "28440824-8f06-4ac3-ebd5-fe2b1c4407fa"
      },
      "outputs": [
        {
          "name": "stdout",
          "output_type": "stream",
          "text": [
            "Mounted at /content/drive\n"
          ]
        }
      ],
      "source": [
        "# Mount the drive\n",
        "from google.colab import drive\n",
        "drive.mount('/content/drive', force_remount=True)\n",
        "\n",
        "# The first time that you run this cell, you will need to authorize access in your drive."
      ]
    },
    {
      "cell_type": "markdown",
      "metadata": {
        "id": "rWdANnMBSgD0"
      },
      "source": [
        "Replace the directory below with the path where your dataset is located."
      ]
    },
    {
      "cell_type": "code",
      "execution_count": 2,
      "metadata": {
        "id": "xQuzCF3zwVD_"
      },
      "outputs": [],
      "source": [
        "# Define the directory where your \".csv\" file resides on your google drive\n",
        "# My path is the following (your path will be different):\n",
        "fname = '/content/drive/MyDrive/ML & AI/HW3/F.csv'"
      ]
    },
    {
      "cell_type": "markdown",
      "metadata": {
        "id": "rNXmdk5gU3IP"
      },
      "source": [
        "Run the code block below to read the data and seperate header from numeric data lines."
      ]
    },
    {
      "cell_type": "code",
      "execution_count": 3,
      "metadata": {
        "colab": {
          "base_uri": "https://localhost:8080/"
        },
        "id": "-6mhbwq7wJsd",
        "outputId": "41b3d4f4-552b-4cb9-97db-bfe9558a14bc",
        "scrolled": true
      },
      "outputs": [
        {
          "name": "stdout",
          "output_type": "stream",
          "text": [
            "['Date', 'Open', 'High', 'Low', 'Close', 'Adj Close', 'Volume']\n",
            "3967\n"
          ]
        }
      ],
      "source": [
        "f = open(fname)\n",
        "data = f.read()\n",
        "f.close()\n",
        "\n",
        "data_lines = data.split('\\n')     # Each line is 1 recording\n",
        "header = data_lines[0].split(',') # Variable names are separated by commas\n",
        "lines = data_lines[1:]        # Drop first line (it's a header)\n",
        "\n",
        "print(header)\n",
        "print(len(lines))"
      ]
    },
    {
      "cell_type": "markdown",
      "metadata": {
        "id": "F_A2fLd4wJsf"
      },
      "source": [
        "Let's convert all of our data into a Numpy array:"
      ]
    },
    {
      "cell_type": "code",
      "execution_count": 4,
      "metadata": {
        "colab": {
          "base_uri": "https://localhost:8080/"
        },
        "id": "mqJSObrnwJsg",
        "outputId": "b09ab7e9-28c0-48af-93bb-65aa3cda6cc1"
      },
      "outputs": [
        {
          "name": "stdout",
          "output_type": "stream",
          "text": [
            "(3967, 4)\n"
          ]
        }
      ],
      "source": [
        "import numpy as np\n",
        "\n",
        "float_data = np.zeros((len(lines), 4))\n",
        "for i, line in enumerate(lines):\n",
        "    values = [float(x) for x in line.split(',')[1:5]]\n",
        "    float_data[i, :] = values\n",
        "print(float_data.shape)\n",
        "# Note that we only keep the following 4 columns: Open, High, Low, Close"
      ]
    },
    {
      "cell_type": "markdown",
      "metadata": {
        "id": "bJNKW8tAwJsj"
      },
      "source": [
        "You can plot the daily closing price of your stock over time as follows. Note that the closing price is **Column 3** in your dataset (columns are indexed 0, 1, 2, and 3). The dataset is named `float_data`."
      ]
    },
    {
      "cell_type": "code",
      "execution_count": 5,
      "metadata": {
        "colab": {
          "base_uri": "https://localhost:8080/",
          "height": 447
        },
        "id": "Rn5bpjbXwJsj",
        "outputId": "5ebac7a7-2fa1-4b09-8225-2382d27158f0"
      },
      "outputs": [
        {
          "data": {
            "text/plain": [
              "[<matplotlib.lines.Line2D at 0x789de81f9e40>]"
            ]
          },
          "execution_count": 5,
          "metadata": {},
          "output_type": "execute_result"
        },
        {
          "data": {
            "image/png": "[encoded data removed]",
            "text/plain": [
              "<Figure size 640x480 with 1 Axes>"
            ]
          },
          "metadata": {},
          "output_type": "display_data"
        }
      ],
      "source": [
        "from matplotlib import pyplot as plt\n",
        "\n",
        "close = float_data[:, 3]  # index 3 is close price\n",
        "plt.plot(range(len(close)), close)"
      ]
    },
    {
      "cell_type": "markdown",
      "metadata": {
        "id": "njBvZMjb4IN9"
      },
      "source": [
        "## Input normalization\n",
        "\n",
        "Since the stock price data (Open, High, Low, Close) are positive numbers, we can divide each column by it's maximum value to make the values between 0 and 1."
      ]
    },
    {
      "cell_type": "code",
      "execution_count": 6,
      "metadata": {
        "id": "ZRlXWORR2NSm"
      },
      "outputs": [],
      "source": [
        "float_data /= float_data.max(axis=0)"
      ]
    },
    {
      "cell_type": "markdown",
      "metadata": {
        "id": "nZXighcIwJsq"
      },
      "source": [
        "## Data generator\n",
        "\n",
        "Similar to the Temperature Forecasting Example, we will need a data generator to automatically create batches of training, validation, and test data. We can use the same data generator function here (I copied it below).\n",
        "\n",
        "The exact formulation of our problem is the following: given stock price data going as far back as `lookback` timesteps (a timestep is 1 day) and sampled every `steps` timesteps, can we predict the stock price in `delay` timesteps? In other words, given stock price data (Open, High, Low, Close) of the past 60 days, sampled every day, we aim to predict the close price in 5 days.\n",
        "\n",
        "We have close to 4000 days of stock price data. Please use the first 2000 days as training data, the next 1000 days as validation data, and the remaining days as test data. Please use `batch_size` of 64."
      ]
    },
    {
      "cell_type": "code",
      "execution_count": 7,
      "metadata": {
        "id": "YVhY76vxwJsu"
      },
      "outputs": [],
      "source": [
        "import numpy as np\n",
        "\n",
        "def generator(data, lookback, delay, min_index, max_index, random_sample, batch_size, step, target_index):\n",
        "    if max_index is None:\n",
        "        max_index = len(data) - delay - 1\n",
        "    i = min_index + lookback\n",
        "    # Out dara generator will generate data indefinitely, so we will have to tell Keras\n",
        "    # how many batches constitute an epoch ('steps_per_epoch' and 'validation_steps' in model.fit)\n",
        "    while 1:\n",
        "        # For the training set (random_sample=True), randomly choose points in time\n",
        "        if random_sample:\n",
        "            rows = np.random.randint(\n",
        "                min_index + lookback, max_index, size=batch_size)\n",
        "        # For the validation and test sets, choose batches of timesteps (in chronological order)\n",
        "        else:\n",
        "            if i + batch_size >= max_index:\n",
        "                i = min_index + lookback\n",
        "            rows = np.arange(i, min(i + batch_size, max_index))\n",
        "            i += len(rows)\n",
        "\n",
        "        samples = np.zeros((len(rows),       # Batch size\n",
        "                           lookback // step, # Floor division (e.g., 5//2=2)\n",
        "                           data.shape[-1]))  # Number of columns in data\n",
        "        targets = np.zeros((len(rows),))\n",
        "        for j, row in enumerate(rows):\n",
        "            indices = range(rows[j] - lookback, rows[j], step)\n",
        "            samples[j] = data[indices]\n",
        "            targets[j] = data[rows[j] + delay][target_index]\n",
        "        yield samples, targets"
      ]
    },
    {
      "cell_type": "markdown",
      "metadata": {
        "id": "cptrMtzC6-0d"
      },
      "source": [
        "## Question 1 (40 pts)\n",
        "\n",
        "First, create instances of the data generator as `train_gen`, `val_gen`, and `test_gen`.\n",
        "\n",
        "Then, develop a recurrent neural network with one `SimpleRNN` layer. For this question, include 128 units in the `SimpleRNN` layer.\n",
        "\n",
        "Compile this model using the `Adam` optimizer and change the learning rate to `0.0001`. Use the appropriate loss function for this problem. During the training process, follow mean absolute percentage error or the `mape` metric on the train and validation sets. This will give you the percentage error for your stock price predictions.\n",
        "\n",
        "Train your RNN model for 50 epochs. Given that our data generator creates batches of data indefinitely, we will have to tell Keras how many training (validation) batches constitute one training (validation) epoch. To do so, use `steps_per_epoch=20` and `validation_steps=14`.\n",
        "\n",
        "Evaluate your trained RNN model on the test set. In `model.evaluate`, use `steps=14` to designate 14 batches of data as one test epoch. What is the mean absolute percentage error on the test set?"
      ]
    },
    {
      "cell_type": "code",
      "execution_count": 8,
      "metadata": {
        "colab": {
          "base_uri": "https://localhost:8080/"
        },
        "id": "DG-8500Id8Bt",
        "outputId": "005842da-e5cd-48f8-d2db-b2ad006206ad"
      },
      "outputs": [
        {
          "name": "stdout",
          "output_type": "stream",
          "text": [
            "14\n",
            "14\n"
          ]
        }
      ],
      "source": [
        "# prepare train, validation and test datasets\n",
        "lookback = 60\n",
        "step = 1\n",
        "delay = 5\n",
        "batch_size = 64\n",
        "target_index = 3\n",
        "\n",
        "train_gen = generator(float_data,\n",
        "                      lookback=lookback,\n",
        "                      delay=delay,\n",
        "                      min_index=0,\n",
        "                      max_index=2000,\n",
        "                      random_sample=True,\n",
        "                      step=step,\n",
        "                      batch_size=batch_size,\n",
        "                      target_index=target_index)\n",
        "\n",
        "val_gen = generator(float_data,\n",
        "                    lookback=lookback,\n",
        "                    delay=delay,\n",
        "                    min_index=2001,\n",
        "                    max_index=3001,\n",
        "                    random_sample=False,\n",
        "                    step=step,\n",
        "                    batch_size=batch_size,\n",
        "                    target_index=target_index)\n",
        "\n",
        "test_gen = generator(float_data,\n",
        "                     lookback=lookback,\n",
        "                     delay=delay,\n",
        "                     min_index=3001,\n",
        "                     max_index=None,\n",
        "                     random_sample=False,\n",
        "                     step=step,\n",
        "                     batch_size=batch_size,\n",
        "                     target_index=target_index)\n",
        "\n",
        "\n",
        "# This is how many batches to draw from `val_gen`\n",
        "# in order to see the whole validation set:\n",
        "val_steps = (3001 - 2001 - lookback) // batch_size\n",
        "\n",
        "# This is how many batches to draw from `test_gen`\n",
        "# in order to see the whole test set:\n",
        "test_steps = (len(float_data) - 3001 - lookback) // batch_size\n",
        "\n",
        "print(val_steps)\n",
        "print(test_steps)"
      ]
    },
    {
      "cell_type": "code",
      "execution_count": 9,
      "metadata": {
        "colab": {
          "base_uri": "https://localhost:8080/"
        },
        "id": "wmeMS1aZs8zX",
        "outputId": "8eddf7d7-04ce-4a61-9f63-e26f40e67d25"
      },
      "outputs": [
        {
          "name": "stdout",
          "output_type": "stream",
          "text": [
            "Epoch 1/50\n",
            "20/20 [==============================] - 7s 68ms/step - loss: 0.4674 - mape: 123.7914 - val_loss: 0.0465 - val_mape: 49.6445\n",
            "Epoch 2/50\n",
            "20/20 [==============================] - 2s 88ms/step - loss: 0.0191 - mape: 35.9151 - val_loss: 0.0032 - val_mape: 11.4313\n",
            "Epoch 3/50\n",
            "20/20 [==============================] - 2s 88ms/step - loss: 0.0061 - mape: 21.9788 - val_loss: 0.0046 - val_mape: 14.4800\n",
            "Epoch 4/50\n",
            "20/20 [==============================] - 1s 48ms/step - loss: 0.0033 - mape: 16.3232 - val_loss: 0.0012 - val_mape: 6.5039\n",
            "Epoch 5/50\n",
            "20/20 [==============================] - 1s 57ms/step - loss: 0.0025 - mape: 14.0821 - val_loss: 8.6442e-04 - val_mape: 5.4694\n",
            "Epoch 6/50\n",
            "20/20 [==============================] - 2s 85ms/step - loss: 0.0024 - mape: 13.5590 - val_loss: 0.0012 - val_mape: 6.5870\n",
            "Epoch 7/50\n",
            "20/20 [==============================] - 2s 92ms/step - loss: 0.0020 - mape: 10.7647 - val_loss: 0.0010 - val_mape: 6.0242\n",
            "Epoch 8/50\n",
            "20/20 [==============================] - 1s 48ms/step - loss: 0.0019 - mape: 11.5368 - val_loss: 8.8092e-04 - val_mape: 5.5582\n",
            "Epoch 9/50\n",
            "20/20 [==============================] - 1s 45ms/step - loss: 0.0017 - mape: 10.5786 - val_loss: 6.7793e-04 - val_mape: 4.8071\n",
            "Epoch 10/50\n",
            "20/20 [==============================] - 1s 46ms/step - loss: 0.0017 - mape: 10.4057 - val_loss: 5.6972e-04 - val_mape: 4.3769\n",
            "Epoch 11/50\n",
            "20/20 [==============================] - 1s 45ms/step - loss: 0.0016 - mape: 8.7889 - val_loss: 5.7434e-04 - val_mape: 4.3968\n",
            "Epoch 12/50\n",
            "20/20 [==============================] - 1s 61ms/step - loss: 0.0014 - mape: 8.4013 - val_loss: 5.9473e-04 - val_mape: 4.4767\n",
            "Epoch 13/50\n",
            "20/20 [==============================] - 3s 171ms/step - loss: 0.0017 - mape: 10.0056 - val_loss: 6.9098e-04 - val_mape: 4.8776\n",
            "Epoch 14/50\n",
            "20/20 [==============================] - 2s 77ms/step - loss: 0.0015 - mape: 9.2700 - val_loss: 7.4024e-04 - val_mape: 5.0600\n",
            "Epoch 15/50\n",
            "20/20 [==============================] - 1s 47ms/step - loss: 0.0014 - mape: 9.3197 - val_loss: 5.1791e-04 - val_mape: 4.1548\n",
            "Epoch 16/50\n",
            "20/20 [==============================] - 1s 46ms/step - loss: 0.0013 - mape: 7.8700 - val_loss: 5.4665e-04 - val_mape: 4.2780\n",
            "Epoch 17/50\n",
            "20/20 [==============================] - 1s 45ms/step - loss: 0.0014 - mape: 8.6052 - val_loss: 4.8491e-04 - val_mape: 4.0157\n",
            "Epoch 18/50\n",
            "20/20 [==============================] - 1s 46ms/step - loss: 0.0014 - mape: 8.0550 - val_loss: 4.8261e-04 - val_mape: 3.9994\n",
            "Epoch 19/50\n",
            "20/20 [==============================] - 1s 44ms/step - loss: 0.0014 - mape: 8.0457 - val_loss: 5.8452e-04 - val_mape: 4.4462\n",
            "Epoch 20/50\n",
            "20/20 [==============================] - 1s 45ms/step - loss: 0.0013 - mape: 7.8230 - val_loss: 4.9988e-04 - val_mape: 4.0824\n",
            "Epoch 21/50\n",
            "20/20 [==============================] - 1s 46ms/step - loss: 0.0012 - mape: 7.5116 - val_loss: 5.5192e-04 - val_mape: 4.2968\n",
            "Epoch 22/50\n",
            "20/20 [==============================] - 1s 45ms/step - loss: 0.0013 - mape: 8.5062 - val_loss: 5.2984e-04 - val_mape: 4.2090\n",
            "Epoch 23/50\n",
            "20/20 [==============================] - 1s 45ms/step - loss: 0.0012 - mape: 7.4336 - val_loss: 5.6218e-04 - val_mape: 4.3500\n",
            "Epoch 24/50\n",
            "20/20 [==============================] - 1s 45ms/step - loss: 0.0012 - mape: 8.0175 - val_loss: 4.6524e-04 - val_mape: 3.9121\n",
            "Epoch 25/50\n",
            "20/20 [==============================] - 1s 60ms/step - loss: 0.0012 - mape: 7.7647 - val_loss: 6.1129e-04 - val_mape: 4.5536\n",
            "Epoch 26/50\n",
            "20/20 [==============================] - 2s 89ms/step - loss: 0.0013 - mape: 8.2719 - val_loss: 5.5111e-04 - val_mape: 4.2961\n",
            "Epoch 27/50\n",
            "20/20 [==============================] - 2s 90ms/step - loss: 0.0012 - mape: 7.6879 - val_loss: 5.1954e-04 - val_mape: 4.1531\n",
            "Epoch 28/50\n",
            "20/20 [==============================] - 1s 43ms/step - loss: 0.0011 - mape: 7.3805 - val_loss: 5.0796e-04 - val_mape: 4.1026\n",
            "Epoch 29/50\n",
            "20/20 [==============================] - 1s 46ms/step - loss: 0.0012 - mape: 7.7656 - val_loss: 4.3304e-04 - val_mape: 3.7822\n",
            "Epoch 30/50\n",
            "20/20 [==============================] - 1s 49ms/step - loss: 0.0012 - mape: 7.6550 - val_loss: 4.5080e-04 - val_mape: 3.8524\n",
            "Epoch 31/50\n",
            "20/20 [==============================] - 1s 46ms/step - loss: 0.0011 - mape: 7.2750 - val_loss: 4.4760e-04 - val_mape: 3.8434\n",
            "Epoch 32/50\n",
            "20/20 [==============================] - 1s 46ms/step - loss: 0.0011 - mape: 7.0630 - val_loss: 4.6469e-04 - val_mape: 3.9186\n",
            "Epoch 33/50\n",
            "20/20 [==============================] - 1s 46ms/step - loss: 0.0011 - mape: 7.7692 - val_loss: 4.2212e-04 - val_mape: 3.7278\n",
            "Epoch 34/50\n",
            "20/20 [==============================] - 1s 46ms/step - loss: 0.0011 - mape: 6.9257 - val_loss: 4.4035e-04 - val_mape: 3.8031\n",
            "Epoch 35/50\n",
            "20/20 [==============================] - 1s 45ms/step - loss: 0.0012 - mape: 7.7686 - val_loss: 4.2001e-04 - val_mape: 3.7012\n",
            "Epoch 36/50\n",
            "20/20 [==============================] - 1s 46ms/step - loss: 0.0012 - mape: 8.2000 - val_loss: 5.2610e-04 - val_mape: 4.1720\n",
            "Epoch 37/50\n",
            "20/20 [==============================] - 1s 47ms/step - loss: 0.0011 - mape: 7.2004 - val_loss: 4.1863e-04 - val_mape: 3.7137\n",
            "Epoch 38/50\n",
            "20/20 [==============================] - 1s 48ms/step - loss: 0.0011 - mape: 7.5194 - val_loss: 4.7079e-04 - val_mape: 3.9534\n",
            "Epoch 39/50\n",
            "20/20 [==============================] - 2s 81ms/step - loss: 0.0012 - mape: 7.7164 - val_loss: 4.1612e-04 - val_mape: 3.6841\n",
            "Epoch 40/50\n",
            "20/20 [==============================] - 2s 86ms/step - loss: 0.0011 - mape: 7.5347 - val_loss: 4.0280e-04 - val_mape: 3.6234\n",
            "Epoch 41/50\n",
            "20/20 [==============================] - 1s 64ms/step - loss: 0.0011 - mape: 7.5233 - val_loss: 4.2538e-04 - val_mape: 3.7343\n",
            "Epoch 42/50\n",
            "20/20 [==============================] - 1s 43ms/step - loss: 0.0011 - mape: 7.5844 - val_loss: 4.0387e-04 - val_mape: 3.6264\n",
            "Epoch 43/50\n",
            "20/20 [==============================] - 1s 47ms/step - loss: 0.0011 - mape: 7.6155 - val_loss: 5.3371e-04 - val_mape: 4.2330\n",
            "Epoch 44/50\n",
            "20/20 [==============================] - 1s 47ms/step - loss: 0.0011 - mape: 7.3035 - val_loss: 4.1061e-04 - val_mape: 3.6703\n",
            "Epoch 45/50\n",
            "20/20 [==============================] - 1s 47ms/step - loss: 0.0011 - mape: 7.5421 - val_loss: 4.3807e-04 - val_mape: 3.7952\n",
            "Epoch 46/50\n",
            "20/20 [==============================] - 1s 46ms/step - loss: 0.0011 - mape: 7.7107 - val_loss: 3.9817e-04 - val_mape: 3.5984\n",
            "Epoch 47/50\n",
            "20/20 [==============================] - 1s 46ms/step - loss: 0.0010 - mape: 7.0965 - val_loss: 4.0406e-04 - val_mape: 3.6307\n",
            "Epoch 48/50\n",
            "20/20 [==============================] - 1s 44ms/step - loss: 0.0011 - mape: 7.1572 - val_loss: 4.3002e-04 - val_mape: 3.7598\n",
            "Epoch 49/50\n",
            "20/20 [==============================] - 1s 45ms/step - loss: 0.0010 - mape: 6.9069 - val_loss: 4.0920e-04 - val_mape: 3.6596\n",
            "Epoch 50/50\n",
            "20/20 [==============================] - 1s 44ms/step - loss: 0.0010 - mape: 6.9144 - val_loss: 3.8844e-04 - val_mape: 3.5525\n"
          ]
        }
      ],
      "source": [
        "from tensorflow.keras import models\n",
        "from tensorflow.keras import layers\n",
        "from tensorflow.keras import optimizers\n",
        "\n",
        "# prepare a RNN with one SimpleRNN layer\n",
        "model1 = models.Sequential()\n",
        "model1.add(layers.SimpleRNN(128, input_shape = (lookback // step, 4)))\n",
        "model1.add(layers.Dense(1))\n",
        "\n",
        "\n",
        "model1.compile(optimizer=optimizers.Adam(learning_rate=0.0001),\n",
        "              loss='mse',\n",
        "              metrics=['mape'])\n",
        "\n",
        "model1_history = model1.fit(train_gen,\n",
        "                            steps_per_epoch=20,\n",
        "                            epochs=50,\n",
        "                            validation_data=val_gen,\n",
        "                            validation_steps=14)"
      ]
    },
    {
      "cell_type": "code",
      "execution_count": 10,
      "metadata": {
        "colab": {
          "base_uri": "https://localhost:8080/"
        },
        "id": "7zl4v0bwwuHc",
        "outputId": "69f5461f-ede7-466f-dc03-25414c7eae80"
      },
      "outputs": [
        {
          "name": "stdout",
          "output_type": "stream",
          "text": [
            "14/14 [==============================] - 0s 13ms/step - loss: 0.0022 - mape: 6.9684\n"
          ]
        },
        {
          "data": {
            "text/plain": [
              "[0.0022385769989341497, 6.9683637619018555]"
            ]
          },
          "execution_count": 10,
          "metadata": {},
          "output_type": "execute_result"
        }
      ],
      "source": [
        "# evaluate the model on test data\n",
        "model1.evaluate(test_gen, steps=14)"
      ]
    },
    {
      "cell_type": "markdown",
      "metadata": {
        "id": "sKU-B1b-w9SK"
      },
      "source": [
        "Hence, the mean absolute percentage error on the test set is 6.96%."
      ]
    },
    {
      "cell_type": "markdown",
      "metadata": {
        "id": "gDpsSuT3_Xpn"
      },
      "source": [
        "## Question 2 (40 pts)\n",
        "\n",
        "Develop a recurrent neural network with one `LSTM` layer. For this question, include 128 units in the `LSTM` layer.\n",
        "\n",
        "Compile this model using the `Adam` optimizer and change the learning rate to `0.0001`. Use the appropriate loss function for this problem. During the training process, follow mean absolute percentage error or the `mape` metric on the train and validation sets. This will give you the percentage error for your stock price predictions.\n",
        "\n",
        "Train your LSTM model for 50 epochs. Given that our data generator creates batches of data indefinitely, we will have to tell Keras how many training (validation) batches constitute one training (validation) epoch. To do so, use `steps_per_epoch=20` and `validation_steps=14`.\n",
        "\n",
        "Evaluate your trained LSTM model on the test set. In `model.evaluate`, use `steps=14` to designate 14 batches of data as one test epoch. What is the mean absolute percentage error on the test set?"
      ]
    },
    {
      "cell_type": "code",
      "execution_count": 11,
      "metadata": {
        "colab": {
          "base_uri": "https://localhost:8080/"
        },
        "id": "_6CZSws6xHYw",
        "outputId": "86152662-f9e1-4836-d51e-e28884f572bd"
      },
      "outputs": [
        {
          "name": "stdout",
          "output_type": "stream",
          "text": [
            "Epoch 1/50\n",
            "20/20 [==============================] - 4s 36ms/step - loss: 0.1914 - mape: 83.9955 - val_loss: 0.0579 - val_mape: 53.9482\n",
            "Epoch 2/50\n",
            "20/20 [==============================] - 0s 13ms/step - loss: 0.0277 - mape: 28.0538 - val_loss: 8.8243e-04 - val_mape: 5.7300\n",
            "Epoch 3/50\n",
            "20/20 [==============================] - 0s 13ms/step - loss: 0.0033 - mape: 14.7679 - val_loss: 7.2341e-04 - val_mape: 5.1032\n",
            "Epoch 4/50\n",
            "20/20 [==============================] - 0s 18ms/step - loss: 0.0015 - mape: 9.6316 - val_loss: 4.0068e-04 - val_mape: 3.6860\n",
            "Epoch 5/50\n",
            "20/20 [==============================] - 0s 12ms/step - loss: 0.0013 - mape: 9.3356 - val_loss: 5.5872e-04 - val_mape: 4.3663\n",
            "Epoch 6/50\n",
            "20/20 [==============================] - 0s 16ms/step - loss: 0.0014 - mape: 9.3898 - val_loss: 4.0841e-04 - val_mape: 3.6911\n",
            "Epoch 7/50\n",
            "20/20 [==============================] - 0s 13ms/step - loss: 0.0013 - mape: 9.8257 - val_loss: 4.9181e-04 - val_mape: 4.0446\n",
            "Epoch 8/50\n",
            "20/20 [==============================] - 0s 13ms/step - loss: 0.0013 - mape: 10.3618 - val_loss: 4.3855e-04 - val_mape: 3.8031\n",
            "Epoch 9/50\n",
            "20/20 [==============================] - 0s 12ms/step - loss: 0.0012 - mape: 9.4843 - val_loss: 4.4501e-04 - val_mape: 3.8285\n",
            "Epoch 10/50\n",
            "20/20 [==============================] - 0s 16ms/step - loss: 0.0013 - mape: 9.7337 - val_loss: 4.6033e-04 - val_mape: 3.8932\n",
            "Epoch 11/50\n",
            "20/20 [==============================] - 0s 12ms/step - loss: 0.0012 - mape: 9.0823 - val_loss: 4.4168e-04 - val_mape: 3.8116\n",
            "Epoch 12/50\n",
            "20/20 [==============================] - 0s 12ms/step - loss: 0.0011 - mape: 8.8529 - val_loss: 4.1944e-04 - val_mape: 3.7267\n",
            "Epoch 13/50\n",
            "20/20 [==============================] - 0s 12ms/step - loss: 0.0013 - mape: 9.8503 - val_loss: 4.1958e-04 - val_mape: 3.7272\n",
            "Epoch 14/50\n",
            "20/20 [==============================] - 0s 13ms/step - loss: 0.0012 - mape: 8.5307 - val_loss: 4.5853e-04 - val_mape: 3.8783\n",
            "Epoch 15/50\n",
            "20/20 [==============================] - 0s 12ms/step - loss: 0.0011 - mape: 8.7385 - val_loss: 4.2221e-04 - val_mape: 3.7359\n",
            "Epoch 16/50\n",
            "20/20 [==============================] - 0s 16ms/step - loss: 0.0012 - mape: 8.1237 - val_loss: 4.3331e-04 - val_mape: 3.7761\n",
            "Epoch 17/50\n",
            "20/20 [==============================] - 0s 12ms/step - loss: 0.0011 - mape: 8.6227 - val_loss: 4.0859e-04 - val_mape: 3.6859\n",
            "Epoch 18/50\n",
            "20/20 [==============================] - 0s 17ms/step - loss: 0.0010 - mape: 8.2804 - val_loss: 4.2623e-04 - val_mape: 3.7489\n",
            "Epoch 19/50\n",
            "20/20 [==============================] - 0s 11ms/step - loss: 0.0011 - mape: 8.4415 - val_loss: 4.1830e-04 - val_mape: 3.7208\n",
            "Epoch 20/50\n",
            "20/20 [==============================] - 0s 12ms/step - loss: 0.0011 - mape: 8.2448 - val_loss: 4.2608e-04 - val_mape: 3.7477\n",
            "Epoch 21/50\n",
            "20/20 [==============================] - 0s 12ms/step - loss: 0.0011 - mape: 7.8582 - val_loss: 4.2109e-04 - val_mape: 3.7295\n",
            "Epoch 22/50\n",
            "20/20 [==============================] - 0s 13ms/step - loss: 0.0011 - mape: 8.2399 - val_loss: 4.0676e-04 - val_mape: 3.6775\n",
            "Epoch 23/50\n",
            "20/20 [==============================] - 0s 16ms/step - loss: 0.0012 - mape: 8.4223 - val_loss: 4.0228e-04 - val_mape: 3.6603\n",
            "Epoch 24/50\n",
            "20/20 [==============================] - 0s 12ms/step - loss: 0.0011 - mape: 8.6881 - val_loss: 4.1676e-04 - val_mape: 3.7130\n",
            "Epoch 25/50\n",
            "20/20 [==============================] - 0s 12ms/step - loss: 0.0011 - mape: 8.4433 - val_loss: 4.1034e-04 - val_mape: 3.6892\n",
            "Epoch 26/50\n",
            "20/20 [==============================] - 0s 12ms/step - loss: 0.0012 - mape: 8.6730 - val_loss: 3.9100e-04 - val_mape: 3.6178\n",
            "Epoch 27/50\n",
            "20/20 [==============================] - 0s 15ms/step - loss: 0.0011 - mape: 8.1706 - val_loss: 4.2130e-04 - val_mape: 3.7274\n",
            "Epoch 28/50\n",
            "20/20 [==============================] - 0s 16ms/step - loss: 0.0011 - mape: 8.0442 - val_loss: 4.1445e-04 - val_mape: 3.7020\n",
            "Epoch 29/50\n",
            "20/20 [==============================] - 0s 17ms/step - loss: 0.0011 - mape: 8.7390 - val_loss: 3.8458e-04 - val_mape: 3.5966\n",
            "Epoch 30/50\n",
            "20/20 [==============================] - 0s 13ms/step - loss: 0.0011 - mape: 8.6222 - val_loss: 3.9168e-04 - val_mape: 3.6172\n",
            "Epoch 31/50\n",
            "20/20 [==============================] - 0s 16ms/step - loss: 0.0011 - mape: 7.8066 - val_loss: 4.2803e-04 - val_mape: 3.7502\n",
            "Epoch 32/50\n",
            "20/20 [==============================] - 0s 19ms/step - loss: 0.0012 - mape: 8.1092 - val_loss: 4.2458e-04 - val_mape: 3.7363\n",
            "Epoch 33/50\n",
            "20/20 [==============================] - 0s 16ms/step - loss: 0.0011 - mape: 8.1741 - val_loss: 4.0560e-04 - val_mape: 3.6660\n",
            "Epoch 34/50\n",
            "20/20 [==============================] - 0s 19ms/step - loss: 0.0011 - mape: 8.6716 - val_loss: 3.8484e-04 - val_mape: 3.5880\n",
            "Epoch 35/50\n",
            "20/20 [==============================] - 0s 18ms/step - loss: 0.0011 - mape: 8.6197 - val_loss: 4.1465e-04 - val_mape: 3.6978\n",
            "Epoch 36/50\n",
            "20/20 [==============================] - 0s 19ms/step - loss: 0.0010 - mape: 7.8787 - val_loss: 4.2879e-04 - val_mape: 3.7510\n",
            "Epoch 37/50\n",
            "20/20 [==============================] - 0s 18ms/step - loss: 0.0010 - mape: 7.6392 - val_loss: 3.8435e-04 - val_mape: 3.5832\n",
            "Epoch 38/50\n",
            "20/20 [==============================] - 0s 20ms/step - loss: 0.0011 - mape: 8.4841 - val_loss: 3.8041e-04 - val_mape: 3.5688\n",
            "Epoch 39/50\n",
            "20/20 [==============================] - 0s 17ms/step - loss: 0.0011 - mape: 8.0141 - val_loss: 4.2459e-04 - val_mape: 3.7330\n",
            "Epoch 40/50\n",
            "20/20 [==============================] - 0s 18ms/step - loss: 0.0011 - mape: 8.5329 - val_loss: 3.8899e-04 - val_mape: 3.5989\n",
            "Epoch 41/50\n",
            "20/20 [==============================] - 0s 20ms/step - loss: 0.0010 - mape: 7.6516 - val_loss: 4.1484e-04 - val_mape: 3.6934\n",
            "Epoch 42/50\n",
            "20/20 [==============================] - 0s 19ms/step - loss: 0.0011 - mape: 7.7989 - val_loss: 3.9283e-04 - val_mape: 3.6121\n",
            "Epoch 43/50\n",
            "20/20 [==============================] - 0s 17ms/step - loss: 0.0011 - mape: 7.5984 - val_loss: 3.8669e-04 - val_mape: 3.5874\n",
            "Epoch 44/50\n",
            "20/20 [==============================] - 0s 18ms/step - loss: 9.5988e-04 - mape: 7.5183 - val_loss: 3.7733e-04 - val_mape: 3.5498\n",
            "Epoch 45/50\n",
            "20/20 [==============================] - 0s 13ms/step - loss: 0.0011 - mape: 8.0090 - val_loss: 3.8974e-04 - val_mape: 3.5976\n",
            "Epoch 46/50\n",
            "20/20 [==============================] - 0s 12ms/step - loss: 0.0011 - mape: 8.1047 - val_loss: 3.7556e-04 - val_mape: 3.5411\n",
            "Epoch 47/50\n",
            "20/20 [==============================] - 0s 12ms/step - loss: 0.0011 - mape: 8.0782 - val_loss: 3.7847e-04 - val_mape: 3.5507\n",
            "Epoch 48/50\n",
            "20/20 [==============================] - 0s 13ms/step - loss: 0.0010 - mape: 8.1505 - val_loss: 4.2282e-04 - val_mape: 3.7221\n",
            "Epoch 49/50\n",
            "20/20 [==============================] - 0s 12ms/step - loss: 0.0010 - mape: 7.7779 - val_loss: 3.8326e-04 - val_mape: 3.5683\n",
            "Epoch 50/50\n",
            "20/20 [==============================] - 0s 12ms/step - loss: 9.5070e-04 - mape: 7.2892 - val_loss: 3.8051e-04 - val_mape: 3.5562\n"
          ]
        }
      ],
      "source": [
        "# prepare a RNN with one LSTM layer\n",
        "model2 = models.Sequential()\n",
        "model2.add(layers.LSTM(128, input_shape = (lookback // step, 4)))\n",
        "model2.add(layers.Dense(1))\n",
        "\n",
        "\n",
        "model2.compile(optimizer=optimizers.Adam(learning_rate=0.0001),\n",
        "              loss='mse',\n",
        "              metrics=['mape'])\n",
        "\n",
        "model2_history = model2.fit(train_gen,\n",
        "                            steps_per_epoch=20,\n",
        "                            epochs=50,\n",
        "                            validation_data=val_gen,\n",
        "                            validation_steps=14)"
      ]
    },
    {
      "cell_type": "code",
      "execution_count": 12,
      "metadata": {
        "colab": {
          "base_uri": "https://localhost:8080/"
        },
        "id": "yxRayiBDx75s",
        "outputId": "927b0170-cbbd-4dd0-eb6b-abc8ca2a8ba3"
      },
      "outputs": [
        {
          "name": "stdout",
          "output_type": "stream",
          "text": [
            "14/14 [==============================] - 0s 8ms/step - loss: 0.0024 - mape: 7.3483\n"
          ]
        },
        {
          "data": {
            "text/plain": [
              "[0.0024134889245033264, 7.3483052253723145]"
            ]
          },
          "execution_count": 12,
          "metadata": {},
          "output_type": "execute_result"
        }
      ],
      "source": [
        "# evaluate the model on test data\n",
        "model2.evaluate(test_gen, steps=14)"
      ]
    },
    {
      "cell_type": "markdown",
      "metadata": {
        "id": "MCKHQr0CyByG"
      },
      "source": [
        "Hence, the mean absolute percentage error on the test set is 7.34%."
      ]
    },
    {
      "cell_type": "markdown",
      "metadata": {
        "id": "PC2vOr_UBHEp"
      },
      "source": [
        "## Question 3 (20 pts)\n",
        "\n",
        "Your goal in this question is to employ your deep learning knowledge to improve your LSTM model. You can play with hyperparameters, stack LSTM layers, add dropout and recurrent dropout, alter the learning rate, try another optimizer such as `rmsprop`, and anything else that you think might help improve (i.e., decrease) the percentage error of your model. This is an open-ended question that aims to give you some experience with training a good deep learning model for a real-world problem. What you do in this exercise is called 'hyperparameter tuning'; this is usually the most time-consuming and the most expensive part of a deep learning project. In a sense, deep learning is babysitting a number of hyperparameters.\n",
        "\n",
        "You do not need to show all of your work here. Please only include one model as your final model here. Explain (in words) what were some of the things that you tried and whether they were helpful to decrease the MAPE."
      ]
    },
    {
      "cell_type": "markdown",
      "metadata": {
        "id": "mFsNrh_UQIw1"
      },
      "source": [
        "**Note:** For this open-ended question, you will receive full credit if you explain (or demonstrate) what you did to improve model performance via hyperparameter tuning."
      ]
    },
    {
      "cell_type": "markdown",
      "metadata": {
        "id": "h6Vxb9vnGFL5"
      },
      "source": [
        "**Note:** Make sure you run all of your code so that the output of each code block appears below it.  Once you are done, download your final `.ipynb` file (File -> Download .ipynb) and submit it on Canvas. Name your file as follows: LastName_FirstName_HW3.ipynb"
      ]
    },
    {
      "cell_type": "code",
      "execution_count": 13,
      "metadata": {
        "colab": {
          "base_uri": "https://localhost:8080/"
        },
        "id": "PdzuTLytyLms",
        "outputId": "02809691-66a1-462b-e356-e2a42d122b67"
      },
      "outputs": [
        {
          "name": "stdout",
          "output_type": "stream",
          "text": [
            "Epoch 1/50\n",
            "20/20 [==============================] - 4s 40ms/step - loss: 0.0198 - mape: 22.6713 - val_loss: 3.4026e-04 - val_mape: 3.3792\n",
            "Epoch 2/50\n",
            "20/20 [==============================] - 0s 15ms/step - loss: 0.0018 - mape: 10.0360 - val_loss: 3.3491e-04 - val_mape: 3.3355\n",
            "Epoch 3/50\n",
            "20/20 [==============================] - 0s 17ms/step - loss: 0.0010 - mape: 8.1938 - val_loss: 3.4950e-04 - val_mape: 3.3972\n",
            "Epoch 4/50\n",
            "20/20 [==============================] - 0s 16ms/step - loss: 9.0045e-04 - mape: 7.6807 - val_loss: 3.2835e-04 - val_mape: 3.2845\n",
            "Epoch 5/50\n",
            "20/20 [==============================] - 0s 16ms/step - loss: 9.9439e-04 - mape: 8.0173 - val_loss: 3.2568e-04 - val_mape: 3.2676\n",
            "Epoch 6/50\n",
            "20/20 [==============================] - 0s 16ms/step - loss: 9.3542e-04 - mape: 7.2927 - val_loss: 3.3273e-04 - val_mape: 3.2986\n",
            "Epoch 7/50\n",
            "20/20 [==============================] - 0s 16ms/step - loss: 8.5449e-04 - mape: 6.9628 - val_loss: 3.6606e-04 - val_mape: 3.4549\n",
            "Epoch 8/50\n",
            "20/20 [==============================] - 0s 13ms/step - loss: 8.8524e-04 - mape: 6.8834 - val_loss: 3.4504e-04 - val_mape: 3.3483\n",
            "Epoch 9/50\n",
            "20/20 [==============================] - 0s 12ms/step - loss: 8.9804e-04 - mape: 6.6941 - val_loss: 3.2238e-04 - val_mape: 3.2695\n",
            "Epoch 10/50\n",
            "20/20 [==============================] - 0s 12ms/step - loss: 8.7231e-04 - mape: 6.6777 - val_loss: 3.9422e-04 - val_mape: 3.5936\n",
            "Epoch 11/50\n",
            "20/20 [==============================] - 0s 12ms/step - loss: 8.6024e-04 - mape: 6.5037 - val_loss: 3.3072e-04 - val_mape: 3.2804\n",
            "Epoch 12/50\n",
            "20/20 [==============================] - 0s 13ms/step - loss: 8.6134e-04 - mape: 6.6541 - val_loss: 3.8922e-04 - val_mape: 3.5659\n",
            "Epoch 13/50\n",
            "20/20 [==============================] - 0s 13ms/step - loss: 8.7998e-04 - mape: 6.5216 - val_loss: 3.3278e-04 - val_mape: 3.2864\n",
            "Epoch 14/50\n",
            "20/20 [==============================] - 0s 12ms/step - loss: 8.9432e-04 - mape: 6.5461 - val_loss: 3.2670e-04 - val_mape: 3.2580\n",
            "Epoch 15/50\n",
            "20/20 [==============================] - 0s 16ms/step - loss: 8.5150e-04 - mape: 6.5091 - val_loss: 4.3999e-04 - val_mape: 3.8213\n",
            "Epoch 16/50\n",
            "20/20 [==============================] - 0s 12ms/step - loss: 8.3706e-04 - mape: 6.6670 - val_loss: 3.1877e-04 - val_mape: 3.2222\n",
            "Epoch 17/50\n",
            "20/20 [==============================] - 0s 16ms/step - loss: 8.5207e-04 - mape: 6.5290 - val_loss: 3.4220e-04 - val_mape: 3.3301\n",
            "Epoch 18/50\n",
            "20/20 [==============================] - 0s 14ms/step - loss: 7.9613e-04 - mape: 6.0953 - val_loss: 3.6506e-04 - val_mape: 3.4480\n",
            "Epoch 19/50\n",
            "20/20 [==============================] - 0s 16ms/step - loss: 7.8504e-04 - mape: 6.7794 - val_loss: 3.2136e-04 - val_mape: 3.2288\n",
            "Epoch 20/50\n",
            "20/20 [==============================] - 0s 13ms/step - loss: 8.1590e-04 - mape: 6.5003 - val_loss: 3.1148e-04 - val_mape: 3.1910\n",
            "Epoch 21/50\n",
            "20/20 [==============================] - 0s 13ms/step - loss: 8.8419e-04 - mape: 6.2950 - val_loss: 3.3873e-04 - val_mape: 3.3137\n",
            "Epoch 22/50\n",
            "20/20 [==============================] - 0s 13ms/step - loss: 8.9068e-04 - mape: 7.0825 - val_loss: 3.3950e-04 - val_mape: 3.3161\n",
            "Epoch 23/50\n",
            "20/20 [==============================] - 0s 12ms/step - loss: 7.9279e-04 - mape: 5.9747 - val_loss: 4.3403e-04 - val_mape: 3.8042\n",
            "Epoch 24/50\n",
            "20/20 [==============================] - 0s 16ms/step - loss: 8.1156e-04 - mape: 6.2665 - val_loss: 3.2559e-04 - val_mape: 3.2436\n",
            "Epoch 25/50\n",
            "20/20 [==============================] - 0s 17ms/step - loss: 8.6603e-04 - mape: 6.6100 - val_loss: 3.1852e-04 - val_mape: 3.2083\n",
            "Epoch 26/50\n",
            "20/20 [==============================] - 0s 13ms/step - loss: 8.4022e-04 - mape: 6.3649 - val_loss: 3.5078e-04 - val_mape: 3.3741\n",
            "Epoch 27/50\n",
            "20/20 [==============================] - 0s 16ms/step - loss: 8.7939e-04 - mape: 6.8927 - val_loss: 3.7968e-04 - val_mape: 3.5231\n",
            "Epoch 28/50\n",
            "20/20 [==============================] - 0s 16ms/step - loss: 8.0354e-04 - mape: 6.2187 - val_loss: 3.9305e-04 - val_mape: 3.5956\n",
            "Epoch 29/50\n",
            "20/20 [==============================] - 0s 16ms/step - loss: 8.0543e-04 - mape: 6.3727 - val_loss: 3.1114e-04 - val_mape: 3.1691\n",
            "Epoch 30/50\n",
            "20/20 [==============================] - 0s 17ms/step - loss: 7.7846e-04 - mape: 6.2720 - val_loss: 3.0522e-04 - val_mape: 3.1439\n",
            "Epoch 31/50\n",
            "20/20 [==============================] - 0s 14ms/step - loss: 7.3955e-04 - mape: 6.0777 - val_loss: 3.5658e-04 - val_mape: 3.4015\n",
            "Epoch 32/50\n",
            "20/20 [==============================] - 0s 17ms/step - loss: 8.7495e-04 - mape: 6.4147 - val_loss: 3.8733e-04 - val_mape: 3.5643\n",
            "Epoch 33/50\n",
            "20/20 [==============================] - 0s 17ms/step - loss: 8.4497e-04 - mape: 6.3554 - val_loss: 3.1706e-04 - val_mape: 3.1953\n",
            "Epoch 34/50\n",
            "20/20 [==============================] - 0s 20ms/step - loss: 8.3229e-04 - mape: 6.6303 - val_loss: 3.0552e-04 - val_mape: 3.1371\n",
            "Epoch 35/50\n",
            "20/20 [==============================] - 0s 18ms/step - loss: 8.6218e-04 - mape: 6.3271 - val_loss: 3.8759e-04 - val_mape: 3.5699\n",
            "Epoch 36/50\n",
            "20/20 [==============================] - 0s 18ms/step - loss: 8.0336e-04 - mape: 6.1682 - val_loss: 3.4828e-04 - val_mape: 3.3674\n",
            "Epoch 37/50\n",
            "20/20 [==============================] - 0s 17ms/step - loss: 7.8064e-04 - mape: 6.1530 - val_loss: 3.6971e-04 - val_mape: 3.4818\n",
            "Epoch 38/50\n",
            "20/20 [==============================] - 0s 19ms/step - loss: 8.3874e-04 - mape: 6.5083 - val_loss: 3.7941e-04 - val_mape: 3.5354\n",
            "Epoch 39/50\n",
            "20/20 [==============================] - 0s 20ms/step - loss: 8.2283e-04 - mape: 6.6014 - val_loss: 3.2765e-04 - val_mape: 3.2476\n",
            "Epoch 40/50\n",
            "20/20 [==============================] - 0s 17ms/step - loss: 8.5696e-04 - mape: 6.4523 - val_loss: 4.2297e-04 - val_mape: 3.7620\n",
            "Epoch 41/50\n",
            "20/20 [==============================] - 0s 18ms/step - loss: 7.2430e-04 - mape: 5.9619 - val_loss: 3.3612e-04 - val_mape: 3.2918\n",
            "Epoch 42/50\n",
            "20/20 [==============================] - 0s 18ms/step - loss: 7.7373e-04 - mape: 6.4777 - val_loss: 3.6946e-04 - val_mape: 3.4814\n",
            "Epoch 43/50\n",
            "20/20 [==============================] - 0s 20ms/step - loss: 8.6991e-04 - mape: 6.0837 - val_loss: 3.6580e-04 - val_mape: 3.4662\n",
            "Epoch 44/50\n",
            "20/20 [==============================] - 0s 18ms/step - loss: 8.2650e-04 - mape: 6.8072 - val_loss: 2.9519e-04 - val_mape: 3.0850\n",
            "Epoch 45/50\n",
            "20/20 [==============================] - 0s 14ms/step - loss: 7.9043e-04 - mape: 5.8343 - val_loss: 3.7805e-04 - val_mape: 3.5273\n",
            "Epoch 46/50\n",
            "20/20 [==============================] - 0s 17ms/step - loss: 8.6558e-04 - mape: 6.4458 - val_loss: 4.1168e-04 - val_mape: 3.7058\n",
            "Epoch 47/50\n",
            "20/20 [==============================] - 0s 18ms/step - loss: 8.3320e-04 - mape: 6.7472 - val_loss: 3.4596e-04 - val_mape: 3.3571\n",
            "Epoch 48/50\n",
            "20/20 [==============================] - 0s 13ms/step - loss: 7.8689e-04 - mape: 6.2726 - val_loss: 4.0966e-04 - val_mape: 3.7074\n",
            "Epoch 49/50\n",
            "20/20 [==============================] - 0s 14ms/step - loss: 7.5022e-04 - mape: 6.1476 - val_loss: 3.2775e-04 - val_mape: 3.2545\n",
            "Epoch 50/50\n",
            "20/20 [==============================] - 0s 17ms/step - loss: 7.8933e-04 - mape: 5.8947 - val_loss: 2.9285e-04 - val_mape: 3.0645\n"
          ]
        }
      ],
      "source": [
        "from tensorflow.keras import models\n",
        "from tensorflow.keras import layers\n",
        "from tensorflow.keras import optimizers\n",
        "\n",
        "# prepare a RNN to improve LSTM model\n",
        "model3 = models.Sequential()\n",
        "model3.add(layers.LSTM(256, input_shape = (lookback // step, 4)))\n",
        "model3.add(layers.Dense(1))\n",
        "\n",
        "\n",
        "model3.compile(optimizer=optimizers.Adam(learning_rate=0.0005),\n",
        "              loss='mse',\n",
        "              metrics=['mape'])\n",
        "\n",
        "model3_history = model3.fit(train_gen,\n",
        "                            steps_per_epoch=20,\n",
        "                            epochs=50,\n",
        "                            validation_data=val_gen,\n",
        "                            validation_steps=14)"
      ]
    },
    {
      "cell_type": "code",
      "execution_count": 14,
      "metadata": {
        "colab": {
          "base_uri": "https://localhost:8080/",
          "height": 475
        },
        "id": "2pQ0agL38SI7",
        "outputId": "18bed08b-abc8-4d42-e626-2c77fc8e5533"
      },
      "outputs": [
        {
          "data": {
            "text/plain": [
              "<matplotlib.legend.Legend at 0x789d3c1656c0>"
            ]
          },
          "execution_count": 14,
          "metadata": {},
          "output_type": "execute_result"
        },
        {
          "data": {
            "image/png": "[encoded data removed]",
            "text/plain": [
              "<Figure size 640x480 with 1 Axes>"
            ]
          },
          "metadata": {},
          "output_type": "display_data"
        }
      ],
      "source": [
        "import seaborn as sns\n",
        "sns.set()\n",
        "\n",
        "# plot the training and validation losses after 5 epochs\n",
        "train_loss3 = model3_history.history['loss']\n",
        "train_mae3 = model3_history.history['mape']\n",
        "val_loss3 = model3_history.history['val_loss']\n",
        "val_mae3 = model3_history.history['val_mape']\n",
        "\n",
        "epochs = range(1, len(train_loss3) + 1)\n",
        "\n",
        "plt.plot(epochs[5:], train_loss3[5:], label = 'Training Loss')\n",
        "plt.plot(epochs[5:], val_loss3[5:], label = 'Validation Loss')\n",
        "plt.xlabel('Epochs')\n",
        "plt.ylabel('Loss')\n",
        "plt.legend()"
      ]
    },
    {
      "cell_type": "code",
      "execution_count": 15,
      "metadata": {
        "colab": {
          "base_uri": "https://localhost:8080/"
        },
        "id": "wvfnwFLOzcD6",
        "outputId": "4682010a-7011-48f9-da03-84f0b057dea0"
      },
      "outputs": [
        {
          "name": "stdout",
          "output_type": "stream",
          "text": [
            "14/14 [==============================] - 0s 10ms/step - loss: 0.0017 - mape: 5.8566\n"
          ]
        },
        {
          "data": {
            "text/plain": [
              "[0.0016526187537238002, 5.856586456298828]"
            ]
          },
          "execution_count": 15,
          "metadata": {},
          "output_type": "execute_result"
        }
      ],
      "source": [
        "model3.evaluate(test_gen, steps=14)"
      ]
    },
    {
      "cell_type": "markdown",
      "metadata": {
        "id": "AxNAgGnNz5EQ"
      },
      "source": [
        "Explanation for hyperparameter tuning:\n",
        "\n",
        "1) Adding another LSTM layer: The first thing I tried was adding another LSTM layer but with 64 nodes after the 128 node LSTM layer. To stack these recurrent layers, I had to use return_sequences=True in the first LSTM layer so it returns the full sequence of outputs. This method resulted in a slight increase in the ending validation MAPE as well as test MAPE. Based on this observation, I decided to tweak the model to have both LSTM layers use 64 nodes next.\n",
        "\n",
        "2) Two LSTM layers each with 64 nodes: This method also resulted in a slight increase in the ending validation MAPE as well as test MAPE. Maybe two LSTM layers were not working well for this data. However, I wanted to explore further so I decided to change the nodes for the second LSTM layer to 32.\n",
        "\n",
        "3) 64-32 LSTM layers: This method resulted in an even worse performance based on the observed increases in the ending validaiton MAPE and the test MAPE. Hence, I decided to keep only one layer for the following tweak, but decided to add a dropout and recurrent dropout of 0.3.\n",
        "\n",
        "4) 128 LSTM with dropout and recurrent dropout: This method also did not improve validation MAPE and the test MAPE compared to the base model2. Hence, I decided to alter the learning rate and optimizer for the next tweak.\n",
        "\n",
        "5) 128 LSTM with learning rate = 0.00001 for the RMSProp optimizer: This method also did not improve validation MAPE and the test MAPE compared to the base model2. For the next tweak, I tried increasing the learning rate to 0.0005 with Adam optimizer, along with increasing the nodes to 256.\n",
        "\n",
        "6) 256 LSTM with learning rate = 0.0005 for the Adam optimizer: This method worked the best so far, and resulted in an improvement from the base model2. The test MAPE using this method was 5.85%. Hence, I am choosing this as my final model for this question.\n",
        "\n",
        "\n",
        "To summarize, the final model I am choosing uses a 256 node LSTM layer and Adam optimizer with the learning rate of 0.0005. The test MAPE for this model was 5.85%."
      ]
    }
  ],
  "metadata": {
    "accelerator": "GPU",
    "colab": {
      "gpuType": "T4",
      "provenance": []
    },
    "kernelspec": {
      "display_name": "Python 3",
      "name": "python3"
    },
    "language_info": {
      "codemirror_mode": {
        "name": "ipython",
        "version": 3
      },
      "file_extension": ".py",
      "mimetype": "text/x-python",
      "name": "python",
      "nbconvert_exporter": "python",
      "pygments_lexer": "ipython3",
      "version": "3.7.3"
    }
  },
  "nbformat": 4,
  "nbformat_minor": 0
}
